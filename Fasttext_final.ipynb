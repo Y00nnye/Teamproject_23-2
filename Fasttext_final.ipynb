{
  "cells": [
    {
      "cell_type": "markdown",
      "source": [
        "## fasttext"
      ],
      "metadata": {
        "id": "jz6XNGau2U04"
      }
    },
    {
      "cell_type": "code",
      "execution_count": 16,
      "metadata": {
        "colab": {
          "base_uri": "https://localhost:8080/"
        },
        "id": "SWxwu_YQ3ONZ",
        "outputId": "20719990-2ed1-4a5f-fc7e-10f563cb1d0e"
      },
      "outputs": [
        {
          "output_type": "stream",
          "name": "stdout",
          "text": [
            "Requirement already satisfied: fasttext in /usr/local/lib/python3.10/dist-packages (0.9.2)\n",
            "Requirement already satisfied: pybind11>=2.2 in /usr/local/lib/python3.10/dist-packages (from fasttext) (2.11.1)\n",
            "Requirement already satisfied: setuptools>=0.7.0 in /usr/local/lib/python3.10/dist-packages (from fasttext) (67.7.2)\n",
            "Requirement already satisfied: numpy in /usr/local/lib/python3.10/dist-packages (from fasttext) (1.23.5)\n"
          ]
        }
      ],
      "source": [
        "!pip install fasttext"
      ]
    },
    {
      "cell_type": "code",
      "execution_count": 17,
      "metadata": {
        "colab": {
          "base_uri": "https://localhost:8080/"
        },
        "id": "HYa-8lCb3sqe",
        "outputId": "79cf2246-5349-4b8e-e512-d025927944c9"
      },
      "outputs": [
        {
          "output_type": "stream",
          "name": "stdout",
          "text": [
            "chmod: cannot access 'your_script.sh': No such file or directory\n"
          ]
        }
      ],
      "source": [
        "!chmod +x your_script.sh\n"
      ]
    },
    {
      "cell_type": "code",
      "execution_count": 18,
      "metadata": {
        "colab": {
          "base_uri": "https://localhost:8080/"
        },
        "id": "SD2N2ZFh3_gK",
        "outputId": "7590a66b-4ad5-4ea5-d6a6-babae50daa2d"
      },
      "outputs": [
        {
          "output_type": "stream",
          "name": "stdout",
          "text": [
            "--2023-12-03 21:20:53--  https://github.com/facebookresearch/fastText/archive/master.zip\n",
            "Resolving github.com (github.com)... 140.82.121.3\n",
            "Connecting to github.com (github.com)|140.82.121.3|:443... connected.\n",
            "HTTP request sent, awaiting response... 302 Found\n",
            "Location: https://codeload.github.com/facebookresearch/fastText/zip/refs/heads/master [following]\n",
            "--2023-12-03 21:20:53--  https://codeload.github.com/facebookresearch/fastText/zip/refs/heads/master\n",
            "Resolving codeload.github.com (codeload.github.com)... 140.82.121.10\n",
            "Connecting to codeload.github.com (codeload.github.com)|140.82.121.10|:443... connected.\n",
            "HTTP request sent, awaiting response... 200 OK\n",
            "Length: unspecified [application/zip]\n",
            "Saving to: ‘master.zip’\n",
            "\n",
            "master.zip              [  <=>               ]   4.17M  12.2MB/s    in 0.3s    \n",
            "\n",
            "2023-12-03 21:20:54 (12.2 MB/s) - ‘master.zip’ saved [4370899]\n",
            "\n",
            "Archive:  master.zip\n",
            "a20c0d27cd0ee88a25ea0433b7f03038cd728459\n",
            "   creating: fastText-master/\n",
            "   creating: fastText-master/.circleci/\n",
            "  inflating: fastText-master/.circleci/cmake_test.sh  \n",
            "  inflating: fastText-master/.circleci/config.yml  \n",
            "  inflating: fastText-master/.circleci/gcc_test.sh  \n",
            "  inflating: fastText-master/.circleci/pip_test.sh  \n",
            "  inflating: fastText-master/.circleci/pull_data.sh  \n",
            "  inflating: fastText-master/.circleci/python_test.sh  \n",
            "  inflating: fastText-master/.circleci/run_locally.sh  \n",
            "  inflating: fastText-master/.circleci/setup_circleimg.sh  \n",
            "  inflating: fastText-master/.circleci/setup_debian.sh  \n",
            "  inflating: fastText-master/.gitignore  \n",
            "  inflating: fastText-master/CMakeLists.txt  \n",
            "  inflating: fastText-master/CODE_OF_CONDUCT.md  \n",
            "  inflating: fastText-master/CONTRIBUTING.md  \n",
            "  inflating: fastText-master/LICENSE  \n",
            "  inflating: fastText-master/MANIFEST.in  \n",
            "  inflating: fastText-master/Makefile  \n",
            "  inflating: fastText-master/README.md  \n",
            "   creating: fastText-master/alignment/\n",
            "  inflating: fastText-master/alignment/README.md  \n",
            "  inflating: fastText-master/alignment/align.py  \n",
            "  inflating: fastText-master/alignment/eval.py  \n",
            "  inflating: fastText-master/alignment/example.sh  \n",
            "  inflating: fastText-master/alignment/unsup_align.py  \n",
            "  inflating: fastText-master/alignment/unsup_multialign.py  \n",
            "  inflating: fastText-master/alignment/utils.py  \n",
            "  inflating: fastText-master/classification-example.sh  \n",
            "  inflating: fastText-master/classification-results.sh  \n",
            "   creating: fastText-master/crawl/\n",
            "  inflating: fastText-master/crawl/README.md  \n",
            "  inflating: fastText-master/crawl/dedup.cc  \n",
            "  inflating: fastText-master/crawl/download_crawl.sh  \n",
            "  inflating: fastText-master/crawl/filter_dedup.sh  \n",
            "  inflating: fastText-master/crawl/filter_utf8.cc  \n",
            "  inflating: fastText-master/crawl/process_wet_file.sh  \n",
            "   creating: fastText-master/docs/\n",
            "  inflating: fastText-master/docs/aligned-vectors.md  \n",
            "  inflating: fastText-master/docs/api.md  \n",
            "  inflating: fastText-master/docs/autotune.md  \n",
            "  inflating: fastText-master/docs/cheatsheet.md  \n",
            "  inflating: fastText-master/docs/crawl-vectors.md  \n",
            "  inflating: fastText-master/docs/dataset.md  \n",
            "  inflating: fastText-master/docs/english-vectors.md  \n",
            "  inflating: fastText-master/docs/faqs.md  \n",
            "  inflating: fastText-master/docs/language-identification.md  \n",
            "  inflating: fastText-master/docs/options.md  \n",
            "  inflating: fastText-master/docs/pretrained-vectors.md  \n",
            "  inflating: fastText-master/docs/python-module.md  \n",
            "  inflating: fastText-master/docs/references.md  \n",
            "  inflating: fastText-master/docs/supervised-models.md  \n",
            "  inflating: fastText-master/docs/supervised-tutorial.md  \n",
            "  inflating: fastText-master/docs/support.md  \n",
            "  inflating: fastText-master/docs/unsupervised-tutorials.md  \n",
            "  inflating: fastText-master/docs/webassembly-module.md  \n",
            "  inflating: fastText-master/download_model.py  \n",
            "  inflating: fastText-master/eval.py  \n",
            "  inflating: fastText-master/fasttext.pc.in  \n",
            "  inflating: fastText-master/get-wikimedia.sh  \n",
            "   creating: fastText-master/python/\n",
            "  inflating: fastText-master/python/README.md  \n",
            "  inflating: fastText-master/python/README.rst  \n",
            "   creating: fastText-master/python/benchmarks/\n",
            "  inflating: fastText-master/python/benchmarks/README.rst  \n",
            "  inflating: fastText-master/python/benchmarks/get_word_vector.py  \n",
            "   creating: fastText-master/python/doc/\n",
            "   creating: fastText-master/python/doc/examples/\n",
            "  inflating: fastText-master/python/doc/examples/FastTextEmbeddingBag.py  \n",
            "  inflating: fastText-master/python/doc/examples/bin_to_vec.py  \n",
            "  inflating: fastText-master/python/doc/examples/compute_accuracy.py  \n",
            "  inflating: fastText-master/python/doc/examples/get_vocab.py  \n",
            "  inflating: fastText-master/python/doc/examples/train_supervised.py  \n",
            "  inflating: fastText-master/python/doc/examples/train_unsupervised.py  \n",
            "   creating: fastText-master/python/fasttext_module/\n",
            "   creating: fastText-master/python/fasttext_module/fasttext/\n",
            "  inflating: fastText-master/python/fasttext_module/fasttext/FastText.py  \n",
            "  inflating: fastText-master/python/fasttext_module/fasttext/__init__.py  \n",
            "   creating: fastText-master/python/fasttext_module/fasttext/pybind/\n",
            "  inflating: fastText-master/python/fasttext_module/fasttext/pybind/fasttext_pybind.cc  \n",
            "   creating: fastText-master/python/fasttext_module/fasttext/tests/\n",
            "  inflating: fastText-master/python/fasttext_module/fasttext/tests/__init__.py  \n",
            "  inflating: fastText-master/python/fasttext_module/fasttext/tests/test_configurations.py  \n",
            "  inflating: fastText-master/python/fasttext_module/fasttext/tests/test_script.py  \n",
            "   creating: fastText-master/python/fasttext_module/fasttext/util/\n",
            "  inflating: fastText-master/python/fasttext_module/fasttext/util/__init__.py  \n",
            "  inflating: fastText-master/python/fasttext_module/fasttext/util/util.py  \n",
            "  inflating: fastText-master/quantization-example.sh  \n",
            "  inflating: fastText-master/reduce_model.py  \n",
            "  inflating: fastText-master/runtests.py  \n",
            "   creating: fastText-master/scripts/\n",
            "   creating: fastText-master/scripts/kbcompletion/\n",
            "  inflating: fastText-master/scripts/kbcompletion/README.md  \n",
            "  inflating: fastText-master/scripts/kbcompletion/data.sh  \n",
            "  inflating: fastText-master/scripts/kbcompletion/eval.cpp  \n",
            "  inflating: fastText-master/scripts/kbcompletion/fb15k.sh  \n",
            "  inflating: fastText-master/scripts/kbcompletion/fb15k237.sh  \n",
            "  inflating: fastText-master/scripts/kbcompletion/svo.sh  \n",
            "  inflating: fastText-master/scripts/kbcompletion/wn18.sh  \n",
            "   creating: fastText-master/scripts/quantization/\n",
            "  inflating: fastText-master/scripts/quantization/quantization-results.sh  \n",
            " extracting: fastText-master/setup.cfg  \n",
            "  inflating: fastText-master/setup.py  \n",
            "   creating: fastText-master/src/\n",
            "  inflating: fastText-master/src/args.cc  \n",
            "  inflating: fastText-master/src/args.h  \n",
            "  inflating: fastText-master/src/autotune.cc  \n",
            "  inflating: fastText-master/src/autotune.h  \n",
            "  inflating: fastText-master/src/densematrix.cc  \n",
            "  inflating: fastText-master/src/densematrix.h  \n",
            "  inflating: fastText-master/src/dictionary.cc  \n",
            "  inflating: fastText-master/src/dictionary.h  \n",
            "  inflating: fastText-master/src/fasttext.cc  \n",
            "  inflating: fastText-master/src/fasttext.h  \n",
            "  inflating: fastText-master/src/loss.cc  \n",
            "  inflating: fastText-master/src/loss.h  \n",
            "  inflating: fastText-master/src/main.cc  \n",
            "  inflating: fastText-master/src/matrix.cc  \n",
            "  inflating: fastText-master/src/matrix.h  \n",
            "  inflating: fastText-master/src/meter.cc  \n",
            "  inflating: fastText-master/src/meter.h  \n",
            "  inflating: fastText-master/src/model.cc  \n",
            "  inflating: fastText-master/src/model.h  \n",
            "  inflating: fastText-master/src/productquantizer.cc  \n",
            "  inflating: fastText-master/src/productquantizer.h  \n",
            "  inflating: fastText-master/src/quantmatrix.cc  \n",
            "  inflating: fastText-master/src/quantmatrix.h  \n",
            "  inflating: fastText-master/src/real.h  \n",
            "  inflating: fastText-master/src/utils.cc  \n",
            "  inflating: fastText-master/src/utils.h  \n",
            "  inflating: fastText-master/src/vector.cc  \n",
            "  inflating: fastText-master/src/vector.h  \n",
            "   creating: fastText-master/tests/\n",
            "  inflating: fastText-master/tests/fetch_test_data.sh  \n",
            "   creating: fastText-master/webassembly/\n",
            "  inflating: fastText-master/webassembly/README.md  \n",
            "   creating: fastText-master/webassembly/doc/\n",
            "   creating: fastText-master/webassembly/doc/examples/\n",
            "  inflating: fastText-master/webassembly/doc/examples/misc.html  \n",
            "  inflating: fastText-master/webassembly/doc/examples/predict.html  \n",
            "  inflating: fastText-master/webassembly/doc/examples/train_supervised.html  \n",
            "  inflating: fastText-master/webassembly/doc/examples/train_unsupervised.html  \n",
            "  inflating: fastText-master/webassembly/fasttext.js  \n",
            "  inflating: fastText-master/webassembly/fasttext_wasm.cc  \n",
            "   creating: fastText-master/website/\n",
            "  inflating: fastText-master/website/README.md  \n",
            "   creating: fastText-master/website/blog/\n",
            "  inflating: fastText-master/website/blog/2016-08-18-blog-post.md  \n",
            "  inflating: fastText-master/website/blog/2017-05-02-blog-post.md  \n",
            "  inflating: fastText-master/website/blog/2017-10-02-blog-post.md  \n",
            "  inflating: fastText-master/website/blog/2019-06-25-blog-post.md  \n",
            "   creating: fastText-master/website/core/\n",
            "  inflating: fastText-master/website/core/Footer.js  \n",
            "  inflating: fastText-master/website/package.json  \n",
            "   creating: fastText-master/website/pages/\n",
            "   creating: fastText-master/website/pages/en/\n",
            "  inflating: fastText-master/website/pages/en/index.js  \n",
            "  inflating: fastText-master/website/sidebars.json  \n",
            "  inflating: fastText-master/website/siteConfig.js  \n",
            "   creating: fastText-master/website/static/\n",
            "   creating: fastText-master/website/static/docs/\n",
            "   creating: fastText-master/website/static/docs/en/\n",
            "   creating: fastText-master/website/static/docs/en/html/\n",
            " extracting: fastText-master/website/static/docs/en/html/.classfasttext_1_1QMatrix-members.html.i4eKqy  \n",
            "  inflating: fastText-master/website/static/docs/en/html/annotated.html  \n",
            "  inflating: fastText-master/website/static/docs/en/html/annotated_dup.js  \n",
            "  inflating: fastText-master/website/static/docs/en/html/args_8cc.html  \n",
            "  inflating: fastText-master/website/static/docs/en/html/args_8h.html  \n",
            "  inflating: fastText-master/website/static/docs/en/html/args_8h.js  \n",
            "  inflating: fastText-master/website/static/docs/en/html/args_8h_source.html  \n",
            " extracting: fastText-master/website/static/docs/en/html/bc_s.png  \n",
            "  inflating: fastText-master/website/static/docs/en/html/bdwn.png  \n",
            "  inflating: fastText-master/website/static/docs/en/html/classes.html  \n",
            "  inflating: fastText-master/website/static/docs/en/html/classfasttext_1_1Args-members.html  \n",
            "  inflating: fastText-master/website/static/docs/en/html/classfasttext_1_1Args.html  \n",
            "  inflating: fastText-master/website/static/docs/en/html/classfasttext_1_1Args.js  \n",
            "  inflating: fastText-master/website/static/docs/en/html/classfasttext_1_1Dictionary-members.html  \n",
            "  inflating: fastText-master/website/static/docs/en/html/classfasttext_1_1Dictionary.html  \n",
            "  inflating: fastText-master/website/static/docs/en/html/classfasttext_1_1Dictionary.js  \n",
            "  inflating: fastText-master/website/static/docs/en/html/classfasttext_1_1FastText-members.html  \n",
            "  inflating: fastText-master/website/static/docs/en/html/classfasttext_1_1FastText.html  \n",
            "  inflating: fastText-master/website/static/docs/en/html/classfasttext_1_1FastText.js  \n",
            "  inflating: fastText-master/website/static/docs/en/html/classfasttext_1_1Matrix-members.html  \n",
            "  inflating: fastText-master/website/static/docs/en/html/classfasttext_1_1Matrix.html  \n",
            "  inflating: fastText-master/website/static/docs/en/html/classfasttext_1_1Matrix.js  \n",
            "  inflating: fastText-master/website/static/docs/en/html/classfasttext_1_1Model-members.html  \n",
            "  inflating: fastText-master/website/static/docs/en/html/classfasttext_1_1Model.html  \n",
            "  inflating: fastText-master/website/static/docs/en/html/classfasttext_1_1Model.js  \n",
            "  inflating: fastText-master/website/static/docs/en/html/classfasttext_1_1ProductQuantizer-members.html  \n",
            "  inflating: fastText-master/website/static/docs/en/html/classfasttext_1_1ProductQuantizer.html  \n",
            "  inflating: fastText-master/website/static/docs/en/html/classfasttext_1_1ProductQuantizer.js  \n",
            "  inflating: fastText-master/website/static/docs/en/html/classfasttext_1_1QMatrix-members.html  \n",
            "  inflating: fastText-master/website/static/docs/en/html/classfasttext_1_1QMatrix.html  \n",
            "  inflating: fastText-master/website/static/docs/en/html/classfasttext_1_1QMatrix.js  \n",
            "  inflating: fastText-master/website/static/docs/en/html/classfasttext_1_1Vector-members.html  \n",
            "  inflating: fastText-master/website/static/docs/en/html/classfasttext_1_1Vector.html  \n",
            "  inflating: fastText-master/website/static/docs/en/html/classfasttext_1_1Vector.js  \n",
            "  inflating: fastText-master/website/static/docs/en/html/closed.png  \n",
            "  inflating: fastText-master/website/static/docs/en/html/dictionary_8cc.html  \n",
            "  inflating: fastText-master/website/static/docs/en/html/dictionary_8h.html  \n",
            "  inflating: fastText-master/website/static/docs/en/html/dictionary_8h.js  \n",
            "  inflating: fastText-master/website/static/docs/en/html/dictionary_8h_source.html  \n",
            "  inflating: fastText-master/website/static/docs/en/html/dir_68267d1309a1af8e8297ef4c3efbcdba.html  \n",
            "  inflating: fastText-master/website/static/docs/en/html/dir_68267d1309a1af8e8297ef4c3efbcdba.js  \n",
            " extracting: fastText-master/website/static/docs/en/html/doc.png  \n",
            "  inflating: fastText-master/website/static/docs/en/html/doxygen.css  \n",
            " extracting: fastText-master/website/static/docs/en/html/doxygen.png  \n",
            "  inflating: fastText-master/website/static/docs/en/html/dynsections.js  \n",
            "  inflating: fastText-master/website/static/docs/en/html/fasttext_8cc.html  \n",
            "  inflating: fastText-master/website/static/docs/en/html/fasttext_8h.html  \n",
            "  inflating: fastText-master/website/static/docs/en/html/fasttext_8h.js  \n",
            "  inflating: fastText-master/website/static/docs/en/html/fasttext_8h_source.html  \n",
            "  inflating: fastText-master/website/static/docs/en/html/favicon.png  \n",
            "  inflating: fastText-master/website/static/docs/en/html/files.html  \n",
            "  inflating: fastText-master/website/static/docs/en/html/files.js  \n",
            " extracting: fastText-master/website/static/docs/en/html/folderclosed.png  \n",
            " extracting: fastText-master/website/static/docs/en/html/folderopen.png  \n",
            "  inflating: fastText-master/website/static/docs/en/html/functions.html  \n",
            "  inflating: fastText-master/website/static/docs/en/html/functions_0x7e.html  \n",
            "  inflating: fastText-master/website/static/docs/en/html/functions_b.html  \n",
            "  inflating: fastText-master/website/static/docs/en/html/functions_c.html  \n",
            "  inflating: fastText-master/website/static/docs/en/html/functions_d.html  \n",
            "  inflating: fastText-master/website/static/docs/en/html/functions_dup.js  \n",
            "  inflating: fastText-master/website/static/docs/en/html/functions_e.html  \n",
            "  inflating: fastText-master/website/static/docs/en/html/functions_f.html  \n",
            "  inflating: fastText-master/website/static/docs/en/html/functions_func.html  \n",
            "  inflating: fastText-master/website/static/docs/en/html/functions_g.html  \n",
            "  inflating: fastText-master/website/static/docs/en/html/functions_h.html  \n",
            "  inflating: fastText-master/website/static/docs/en/html/functions_i.html  \n",
            "  inflating: fastText-master/website/static/docs/en/html/functions_k.html  \n",
            "  inflating: fastText-master/website/static/docs/en/html/functions_l.html  \n",
            "  inflating: fastText-master/website/static/docs/en/html/functions_m.html  \n",
            "  inflating: fastText-master/website/static/docs/en/html/functions_n.html  \n",
            "  inflating: fastText-master/website/static/docs/en/html/functions_o.html  \n",
            "  inflating: fastText-master/website/static/docs/en/html/functions_p.html  \n",
            "  inflating: fastText-master/website/static/docs/en/html/functions_q.html  \n",
            "  inflating: fastText-master/website/static/docs/en/html/functions_r.html  \n",
            "  inflating: fastText-master/website/static/docs/en/html/functions_s.html  \n",
            "  inflating: fastText-master/website/static/docs/en/html/functions_t.html  \n",
            "  inflating: fastText-master/website/static/docs/en/html/functions_u.html  \n",
            "  inflating: fastText-master/website/static/docs/en/html/functions_v.html  \n",
            "  inflating: fastText-master/website/static/docs/en/html/functions_vars.html  \n",
            "  inflating: fastText-master/website/static/docs/en/html/functions_w.html  \n",
            "  inflating: fastText-master/website/static/docs/en/html/functions_z.html  \n",
            "  inflating: fastText-master/website/static/docs/en/html/globals.html  \n",
            "  inflating: fastText-master/website/static/docs/en/html/globals_defs.html  \n",
            "  inflating: fastText-master/website/static/docs/en/html/globals_func.html  \n",
            "  inflating: fastText-master/website/static/docs/en/html/index.html  \n",
            "  inflating: fastText-master/website/static/docs/en/html/jquery.js  \n",
            "  inflating: fastText-master/website/static/docs/en/html/main_8cc.html  \n",
            "  inflating: fastText-master/website/static/docs/en/html/main_8cc.js  \n",
            "  inflating: fastText-master/website/static/docs/en/html/matrix_8cc.html  \n",
            "  inflating: fastText-master/website/static/docs/en/html/matrix_8h.html  \n",
            "  inflating: fastText-master/website/static/docs/en/html/matrix_8h_source.html  \n",
            "  inflating: fastText-master/website/static/docs/en/html/menu.js  \n",
            "  inflating: fastText-master/website/static/docs/en/html/menudata.js  \n",
            "  inflating: fastText-master/website/static/docs/en/html/model_8cc.html  \n",
            "  inflating: fastText-master/website/static/docs/en/html/model_8h.html  \n",
            "  inflating: fastText-master/website/static/docs/en/html/model_8h.js  \n",
            "  inflating: fastText-master/website/static/docs/en/html/model_8h_source.html  \n",
            "  inflating: fastText-master/website/static/docs/en/html/namespacefasttext.html  \n",
            "  inflating: fastText-master/website/static/docs/en/html/namespacefasttext.js  \n",
            "  inflating: fastText-master/website/static/docs/en/html/namespacefasttext_1_1utils.html  \n",
            "  inflating: fastText-master/website/static/docs/en/html/namespacemembers.html  \n",
            "  inflating: fastText-master/website/static/docs/en/html/namespacemembers_enum.html  \n",
            "  inflating: fastText-master/website/static/docs/en/html/namespacemembers_func.html  \n",
            "  inflating: fastText-master/website/static/docs/en/html/namespacemembers_type.html  \n",
            "  inflating: fastText-master/website/static/docs/en/html/namespaces.html  \n",
            "  inflating: fastText-master/website/static/docs/en/html/namespaces.js  \n",
            " extracting: fastText-master/website/static/docs/en/html/nav_f.png  \n",
            "  inflating: fastText-master/website/static/docs/en/html/nav_g.png  \n",
            "  inflating: fastText-master/website/static/docs/en/html/nav_h.png  \n",
            "  inflating: fastText-master/website/static/docs/en/html/navtree.css  \n",
            "  inflating: fastText-master/website/static/docs/en/html/navtree.js  \n",
            "  inflating: fastText-master/website/static/docs/en/html/navtreedata.js  \n",
            "  inflating: fastText-master/website/static/docs/en/html/navtreeindex0.js  \n",
            "  inflating: fastText-master/website/static/docs/en/html/navtreeindex1.js  \n",
            "  inflating: fastText-master/website/static/docs/en/html/open.png  \n",
            "  inflating: fastText-master/website/static/docs/en/html/productquantizer_8cc.html  \n",
            "  inflating: fastText-master/website/static/docs/en/html/productquantizer_8cc.js  \n",
            "  inflating: fastText-master/website/static/docs/en/html/productquantizer_8h.html  \n",
            "  inflating: fastText-master/website/static/docs/en/html/productquantizer_8h_source.html  \n",
            "  inflating: fastText-master/website/static/docs/en/html/qmatrix_8cc.html  \n",
            "  inflating: fastText-master/website/static/docs/en/html/qmatrix_8h.html  \n",
            "  inflating: fastText-master/website/static/docs/en/html/qmatrix_8h_source.html  \n",
            "  inflating: fastText-master/website/static/docs/en/html/real_8h.html  \n",
            "  inflating: fastText-master/website/static/docs/en/html/real_8h.js  \n",
            "  inflating: fastText-master/website/static/docs/en/html/real_8h_source.html  \n",
            "  inflating: fastText-master/website/static/docs/en/html/resize.js  \n",
            "   creating: fastText-master/website/static/docs/en/html/search/\n",
            " extracting: fastText-master/website/static/docs/en/html/search/.files_7.html.StRRNc  \n",
            " extracting: fastText-master/website/static/docs/en/html/search/.variables_a.html.1MGQ27  \n",
            "  inflating: fastText-master/website/static/docs/en/html/search/all_0.html  \n",
            "  inflating: fastText-master/website/static/docs/en/html/search/all_0.js  \n",
            "  inflating: fastText-master/website/static/docs/en/html/search/all_1.html  \n",
            "  inflating: fastText-master/website/static/docs/en/html/search/all_1.js  \n",
            "  inflating: fastText-master/website/static/docs/en/html/search/all_10.html  \n",
            "  inflating: fastText-master/website/static/docs/en/html/search/all_10.js  \n",
            "  inflating: fastText-master/website/static/docs/en/html/search/all_11.html  \n",
            "  inflating: fastText-master/website/static/docs/en/html/search/all_11.js  \n",
            "  inflating: fastText-master/website/static/docs/en/html/search/all_12.html  \n",
            "  inflating: fastText-master/website/static/docs/en/html/search/all_12.js  \n",
            "  inflating: fastText-master/website/static/docs/en/html/search/all_13.html  \n",
            "  inflating: fastText-master/website/static/docs/en/html/search/all_13.js  \n",
            "  inflating: fastText-master/website/static/docs/en/html/search/all_14.html  \n",
            "  inflating: fastText-master/website/static/docs/en/html/search/all_14.js  \n",
            "  inflating: fastText-master/website/static/docs/en/html/search/all_15.html  \n",
            "  inflating: fastText-master/website/static/docs/en/html/search/all_15.js  \n",
            "  inflating: fastText-master/website/static/docs/en/html/search/all_16.html  \n",
            "  inflating: fastText-master/website/static/docs/en/html/search/all_16.js  \n",
            "  inflating: fastText-master/website/static/docs/en/html/search/all_17.html  \n",
            "  inflating: fastText-master/website/static/docs/en/html/search/all_17.js  \n",
            "  inflating: fastText-master/website/static/docs/en/html/search/all_2.html  \n",
            "  inflating: fastText-master/website/static/docs/en/html/search/all_2.js  \n",
            "  inflating: fastText-master/website/static/docs/en/html/search/all_3.html  \n",
            "  inflating: fastText-master/website/static/docs/en/html/search/all_3.js  \n",
            "  inflating: fastText-master/website/static/docs/en/html/search/all_4.html  \n",
            "  inflating: fastText-master/website/static/docs/en/html/search/all_4.js  \n",
            "  inflating: fastText-master/website/static/docs/en/html/search/all_5.html  \n",
            "  inflating: fastText-master/website/static/docs/en/html/search/all_5.js  \n",
            "  inflating: fastText-master/website/static/docs/en/html/search/all_6.html  \n",
            "  inflating: fastText-master/website/static/docs/en/html/search/all_6.js  \n",
            "  inflating: fastText-master/website/static/docs/en/html/search/all_7.html  \n",
            "  inflating: fastText-master/website/static/docs/en/html/search/all_7.js  \n",
            "  inflating: fastText-master/website/static/docs/en/html/search/all_8.html  \n",
            "  inflating: fastText-master/website/static/docs/en/html/search/all_8.js  \n",
            "  inflating: fastText-master/website/static/docs/en/html/search/all_9.html  \n",
            "  inflating: fastText-master/website/static/docs/en/html/search/all_9.js  \n",
            "  inflating: fastText-master/website/static/docs/en/html/search/all_a.html  \n",
            "  inflating: fastText-master/website/static/docs/en/html/search/all_a.js  \n",
            "  inflating: fastText-master/website/static/docs/en/html/search/all_b.html  \n",
            "  inflating: fastText-master/website/static/docs/en/html/search/all_b.js  \n",
            "  inflating: fastText-master/website/static/docs/en/html/search/all_c.html  \n",
            "  inflating: fastText-master/website/static/docs/en/html/search/all_c.js  \n",
            "  inflating: fastText-master/website/static/docs/en/html/search/all_d.html  \n",
            "  inflating: fastText-master/website/static/docs/en/html/search/all_d.js  \n",
            "  inflating: fastText-master/website/static/docs/en/html/search/all_e.html  \n",
            "  inflating: fastText-master/website/static/docs/en/html/search/all_e.js  \n",
            "  inflating: fastText-master/website/static/docs/en/html/search/all_f.html  \n",
            "  inflating: fastText-master/website/static/docs/en/html/search/all_f.js  \n",
            "  inflating: fastText-master/website/static/docs/en/html/search/classes_0.html  \n",
            "  inflating: fastText-master/website/static/docs/en/html/search/classes_0.js  \n",
            "  inflating: fastText-master/website/static/docs/en/html/search/classes_1.html  \n",
            "  inflating: fastText-master/website/static/docs/en/html/search/classes_1.js  \n",
            "  inflating: fastText-master/website/static/docs/en/html/search/classes_2.html  \n",
            "  inflating: fastText-master/website/static/docs/en/html/search/classes_2.js  \n",
            "  inflating: fastText-master/website/static/docs/en/html/search/classes_3.html  \n",
            "  inflating: fastText-master/website/static/docs/en/html/search/classes_3.js  \n",
            "  inflating: fastText-master/website/static/docs/en/html/search/classes_4.html  \n",
            "  inflating: fastText-master/website/static/docs/en/html/search/classes_4.js  \n",
            "  inflating: fastText-master/website/static/docs/en/html/search/classes_5.html  \n",
            "  inflating: fastText-master/website/static/docs/en/html/search/classes_5.js  \n",
            "  inflating: fastText-master/website/static/docs/en/html/search/classes_6.html  \n",
            "  inflating: fastText-master/website/static/docs/en/html/search/classes_6.js  \n",
            "  inflating: fastText-master/website/static/docs/en/html/search/classes_7.html  \n",
            "  inflating: fastText-master/website/static/docs/en/html/search/classes_7.js  \n",
            "  inflating: fastText-master/website/static/docs/en/html/search/classes_8.html  \n",
            "  inflating: fastText-master/website/static/docs/en/html/search/classes_8.js  \n",
            " extracting: fastText-master/website/static/docs/en/html/search/close.png  \n",
            "  inflating: fastText-master/website/static/docs/en/html/search/defines_0.html  \n",
            "  inflating: fastText-master/website/static/docs/en/html/search/defines_0.js  \n",
            "  inflating: fastText-master/website/static/docs/en/html/search/defines_1.html  \n",
            "  inflating: fastText-master/website/static/docs/en/html/search/defines_1.js  \n",
            "  inflating: fastText-master/website/static/docs/en/html/search/defines_2.html  \n",
            "  inflating: fastText-master/website/static/docs/en/html/search/defines_2.js  \n",
            "  inflating: fastText-master/website/static/docs/en/html/search/defines_3.html  \n",
            "  inflating: fastText-master/website/static/docs/en/html/search/defines_3.js  \n",
            "  inflating: fastText-master/website/static/docs/en/html/search/enums_0.html  \n",
            "  inflating: fastText-master/website/static/docs/en/html/search/enums_0.js  \n",
            "  inflating: fastText-master/website/static/docs/en/html/search/enums_1.html  \n",
            "  inflating: fastText-master/website/static/docs/en/html/search/enums_1.js  \n",
            "  inflating: fastText-master/website/static/docs/en/html/search/enums_2.html  \n",
            "  inflating: fastText-master/website/static/docs/en/html/search/enums_2.js  \n",
            "  inflating: fastText-master/website/static/docs/en/html/search/enumvalues_0.html  \n",
            "  inflating: fastText-master/website/static/docs/en/html/search/enumvalues_0.js  \n",
            "  inflating: fastText-master/website/static/docs/en/html/search/enumvalues_1.html  \n",
            "  inflating: fastText-master/website/static/docs/en/html/search/enumvalues_1.js  \n",
            "  inflating: fastText-master/website/static/docs/en/html/search/enumvalues_2.html  \n",
            "  inflating: fastText-master/website/static/docs/en/html/search/enumvalues_2.js  \n",
            "  inflating: fastText-master/website/static/docs/en/html/search/enumvalues_3.html  \n",
            "  inflating: fastText-master/website/static/docs/en/html/search/enumvalues_3.js  \n",
            "  inflating: fastText-master/website/static/docs/en/html/search/enumvalues_4.html  \n",
            "  inflating: fastText-master/website/static/docs/en/html/search/enumvalues_4.js  \n",
            "  inflating: fastText-master/website/static/docs/en/html/search/enumvalues_5.html  \n",
            "  inflating: fastText-master/website/static/docs/en/html/search/enumvalues_5.js  \n",
            "  inflating: fastText-master/website/static/docs/en/html/search/files_0.html  \n",
            "  inflating: fastText-master/website/static/docs/en/html/search/files_0.js  \n",
            "  inflating: fastText-master/website/static/docs/en/html/search/files_1.html  \n",
            "  inflating: fastText-master/website/static/docs/en/html/search/files_1.js  \n",
            "  inflating: fastText-master/website/static/docs/en/html/search/files_2.html  \n",
            "  inflating: fastText-master/website/static/docs/en/html/search/files_2.js  \n",
            "  inflating: fastText-master/website/static/docs/en/html/search/files_3.html  \n",
            "  inflating: fastText-master/website/static/docs/en/html/search/files_3.js  \n",
            "  inflating: fastText-master/website/static/docs/en/html/search/files_4.html  \n",
            "  inflating: fastText-master/website/static/docs/en/html/search/files_4.js  \n",
            "  inflating: fastText-master/website/static/docs/en/html/search/files_5.html  \n",
            "  inflating: fastText-master/website/static/docs/en/html/search/files_5.js  \n",
            "  inflating: fastText-master/website/static/docs/en/html/search/files_6.html  \n",
            "  inflating: fastText-master/website/static/docs/en/html/search/files_6.js  \n",
            "  inflating: fastText-master/website/static/docs/en/html/search/files_7.html  \n",
            "  inflating: fastText-master/website/static/docs/en/html/search/files_7.js  \n",
            "  inflating: fastText-master/website/static/docs/en/html/search/files_8.html  \n",
            "  inflating: fastText-master/website/static/docs/en/html/search/files_8.js  \n",
            "  inflating: fastText-master/website/static/docs/en/html/search/functions_0.html  \n",
            "  inflating: fastText-master/website/static/docs/en/html/search/functions_0.js  \n",
            "  inflating: fastText-master/website/static/docs/en/html/search/functions_1.html  \n",
            "  inflating: fastText-master/website/static/docs/en/html/search/functions_1.js  \n",
            "  inflating: fastText-master/website/static/docs/en/html/search/functions_10.html  \n",
            "  inflating: fastText-master/website/static/docs/en/html/search/functions_10.js  \n",
            "  inflating: fastText-master/website/static/docs/en/html/search/functions_11.html  \n",
            "  inflating: fastText-master/website/static/docs/en/html/search/functions_11.js  \n",
            "  inflating: fastText-master/website/static/docs/en/html/search/functions_12.html  \n",
            "  inflating: fastText-master/website/static/docs/en/html/search/functions_12.js  \n",
            "  inflating: fastText-master/website/static/docs/en/html/search/functions_13.html  \n",
            "  inflating: fastText-master/website/static/docs/en/html/search/functions_13.js  \n",
            "  inflating: fastText-master/website/static/docs/en/html/search/functions_14.html  \n",
            "  inflating: fastText-master/website/static/docs/en/html/search/functions_14.js  \n",
            "  inflating: fastText-master/website/static/docs/en/html/search/functions_15.html  \n",
            "  inflating: fastText-master/website/static/docs/en/html/search/functions_15.js  \n",
            "  inflating: fastText-master/website/static/docs/en/html/search/functions_16.html  \n",
            "  inflating: fastText-master/website/static/docs/en/html/search/functions_16.js  \n",
            "  inflating: fastText-master/website/static/docs/en/html/search/functions_17.html  \n",
            "  inflating: fastText-master/website/static/docs/en/html/search/functions_17.js  \n",
            "  inflating: fastText-master/website/static/docs/en/html/search/functions_2.html  \n",
            "  inflating: fastText-master/website/static/docs/en/html/search/functions_2.js  \n",
            "  inflating: fastText-master/website/static/docs/en/html/search/functions_3.html  \n",
            "  inflating: fastText-master/website/static/docs/en/html/search/functions_3.js  \n",
            "  inflating: fastText-master/website/static/docs/en/html/search/functions_4.html  \n",
            "  inflating: fastText-master/website/static/docs/en/html/search/functions_4.js  \n",
            "  inflating: fastText-master/website/static/docs/en/html/search/functions_5.html  \n",
            "  inflating: fastText-master/website/static/docs/en/html/search/functions_5.js  \n",
            "  inflating: fastText-master/website/static/docs/en/html/search/functions_6.html  \n",
            "  inflating: fastText-master/website/static/docs/en/html/search/functions_6.js  \n",
            "  inflating: fastText-master/website/static/docs/en/html/search/functions_7.html  \n",
            "  inflating: fastText-master/website/static/docs/en/html/search/functions_7.js  \n",
            "  inflating: fastText-master/website/static/docs/en/html/search/functions_8.html  \n",
            "  inflating: fastText-master/website/static/docs/en/html/search/functions_8.js  \n",
            "  inflating: fastText-master/website/static/docs/en/html/search/functions_9.html  \n",
            "  inflating: fastText-master/website/static/docs/en/html/search/functions_9.js  \n",
            "  inflating: fastText-master/website/static/docs/en/html/search/functions_a.html  \n",
            "  inflating: fastText-master/website/static/docs/en/html/search/functions_a.js  \n",
            "  inflating: fastText-master/website/static/docs/en/html/search/functions_b.html  \n",
            "  inflating: fastText-master/website/static/docs/en/html/search/functions_b.js  \n",
            "  inflating: fastText-master/website/static/docs/en/html/search/functions_c.html  \n",
            "  inflating: fastText-master/website/static/docs/en/html/search/functions_c.js  \n",
            "  inflating: fastText-master/website/static/docs/en/html/search/functions_d.html  \n",
            "  inflating: fastText-master/website/static/docs/en/html/search/functions_d.js  \n",
            "  inflating: fastText-master/website/static/docs/en/html/search/functions_e.html  \n",
            "  inflating: fastText-master/website/static/docs/en/html/search/functions_e.js  \n",
            "  inflating: fastText-master/website/static/docs/en/html/search/functions_f.html  \n",
            "  inflating: fastText-master/website/static/docs/en/html/search/functions_f.js  \n",
            " extracting: fastText-master/website/static/docs/en/html/search/mag_sel.png  \n",
            "  inflating: fastText-master/website/static/docs/en/html/search/namespaces_0.html  \n",
            "  inflating: fastText-master/website/static/docs/en/html/search/namespaces_0.js  \n",
            "  inflating: fastText-master/website/static/docs/en/html/search/nomatches.html  \n",
            "  inflating: fastText-master/website/static/docs/en/html/search/search.css  \n",
            "  inflating: fastText-master/website/static/docs/en/html/search/search.js  \n",
            " extracting: fastText-master/website/static/docs/en/html/search/search_l.png  \n",
            "  inflating: fastText-master/website/static/docs/en/html/search/search_m.png  \n",
            " extracting: fastText-master/website/static/docs/en/html/search/search_r.png  \n",
            "  inflating: fastText-master/website/static/docs/en/html/search/searchdata.js  \n",
            "  inflating: fastText-master/website/static/docs/en/html/search/typedefs_0.html  \n",
            "  inflating: fastText-master/website/static/docs/en/html/search/typedefs_0.js  \n",
            "  inflating: fastText-master/website/static/docs/en/html/search/typedefs_1.html  \n",
            "  inflating: fastText-master/website/static/docs/en/html/search/typedefs_1.js  \n",
            "  inflating: fastText-master/website/static/docs/en/html/search/variables_0.html  \n",
            "  inflating: fastText-master/website/static/docs/en/html/search/variables_0.js  \n",
            "  inflating: fastText-master/website/static/docs/en/html/search/variables_1.html  \n",
            "  inflating: fastText-master/website/static/docs/en/html/search/variables_1.js  \n",
            "  inflating: fastText-master/website/static/docs/en/html/search/variables_10.html  \n",
            "  inflating: fastText-master/website/static/docs/en/html/search/variables_10.js  \n",
            "  inflating: fastText-master/website/static/docs/en/html/search/variables_11.html  \n",
            "  inflating: fastText-master/website/static/docs/en/html/search/variables_11.js  \n",
            "  inflating: fastText-master/website/static/docs/en/html/search/variables_12.html  \n",
            "  inflating: fastText-master/website/static/docs/en/html/search/variables_12.js  \n",
            "  inflating: fastText-master/website/static/docs/en/html/search/variables_13.html  \n",
            "  inflating: fastText-master/website/static/docs/en/html/search/variables_13.js  \n",
            "  inflating: fastText-master/website/static/docs/en/html/search/variables_2.html  \n",
            "  inflating: fastText-master/website/static/docs/en/html/search/variables_2.js  \n",
            "  inflating: fastText-master/website/static/docs/en/html/search/variables_3.html  \n",
            "  inflating: fastText-master/website/static/docs/en/html/search/variables_3.js  \n",
            "  inflating: fastText-master/website/static/docs/en/html/search/variables_4.html  \n",
            "  inflating: fastText-master/website/static/docs/en/html/search/variables_4.js  \n",
            "  inflating: fastText-master/website/static/docs/en/html/search/variables_5.html  \n",
            "  inflating: fastText-master/website/static/docs/en/html/search/variables_5.js  \n",
            "  inflating: fastText-master/website/static/docs/en/html/search/variables_6.html  \n",
            "  inflating: fastText-master/website/static/docs/en/html/search/variables_6.js  \n",
            "  inflating: fastText-master/website/static/docs/en/html/search/variables_7.html  \n",
            "  inflating: fastText-master/website/static/docs/en/html/search/variables_7.js  \n",
            "  inflating: fastText-master/website/static/docs/en/html/search/variables_8.html  \n",
            "  inflating: fastText-master/website/static/docs/en/html/search/variables_8.js  \n",
            "  inflating: fastText-master/website/static/docs/en/html/search/variables_9.html  \n",
            "  inflating: fastText-master/website/static/docs/en/html/search/variables_9.js  \n",
            "  inflating: fastText-master/website/static/docs/en/html/search/variables_a.html  \n",
            "  inflating: fastText-master/website/static/docs/en/html/search/variables_a.js  \n",
            "  inflating: fastText-master/website/static/docs/en/html/search/variables_b.html  \n",
            "  inflating: fastText-master/website/static/docs/en/html/search/variables_b.js  \n",
            "  inflating: fastText-master/website/static/docs/en/html/search/variables_c.html  \n",
            "  inflating: fastText-master/website/static/docs/en/html/search/variables_c.js  \n",
            "  inflating: fastText-master/website/static/docs/en/html/search/variables_d.html  \n",
            "  inflating: fastText-master/website/static/docs/en/html/search/variables_d.js  \n",
            "  inflating: fastText-master/website/static/docs/en/html/search/variables_e.html  \n",
            "  inflating: fastText-master/website/static/docs/en/html/search/variables_e.js  \n",
            "  inflating: fastText-master/website/static/docs/en/html/search/variables_f.html  \n",
            "  inflating: fastText-master/website/static/docs/en/html/search/variables_f.js  \n",
            "  inflating: fastText-master/website/static/docs/en/html/splitbar.png  \n",
            "  inflating: fastText-master/website/static/docs/en/html/structfasttext_1_1Node-members.html  \n",
            "  inflating: fastText-master/website/static/docs/en/html/structfasttext_1_1Node.html  \n",
            "  inflating: fastText-master/website/static/docs/en/html/structfasttext_1_1Node.js  \n",
            "  inflating: fastText-master/website/static/docs/en/html/structfasttext_1_1entry-members.html  \n",
            "  inflating: fastText-master/website/static/docs/en/html/structfasttext_1_1entry.html  \n",
            "  inflating: fastText-master/website/static/docs/en/html/structfasttext_1_1entry.js  \n",
            " extracting: fastText-master/website/static/docs/en/html/sync_off.png  \n",
            " extracting: fastText-master/website/static/docs/en/html/sync_on.png  \n",
            " extracting: fastText-master/website/static/docs/en/html/tab_a.png  \n",
            " extracting: fastText-master/website/static/docs/en/html/tab_b.png  \n",
            " extracting: fastText-master/website/static/docs/en/html/tab_h.png  \n",
            " extracting: fastText-master/website/static/docs/en/html/tab_s.png  \n",
            "  inflating: fastText-master/website/static/docs/en/html/tabs.css  \n",
            "  inflating: fastText-master/website/static/docs/en/html/utils_8cc.html  \n",
            "  inflating: fastText-master/website/static/docs/en/html/utils_8cc.js  \n",
            "  inflating: fastText-master/website/static/docs/en/html/utils_8h.html  \n",
            "  inflating: fastText-master/website/static/docs/en/html/utils_8h.js  \n",
            "  inflating: fastText-master/website/static/docs/en/html/utils_8h_source.html  \n",
            "  inflating: fastText-master/website/static/docs/en/html/vector_8cc.html  \n",
            "  inflating: fastText-master/website/static/docs/en/html/vector_8cc.js  \n",
            "  inflating: fastText-master/website/static/docs/en/html/vector_8h.html  \n",
            "  inflating: fastText-master/website/static/docs/en/html/vector_8h.js  \n",
            "  inflating: fastText-master/website/static/docs/en/html/vector_8h_source.html  \n",
            "  inflating: fastText-master/website/static/fasttext.css  \n",
            "   creating: fastText-master/website/static/img/\n",
            "   creating: fastText-master/website/static/img/authors/\n",
            "  inflating: fastText-master/website/static/img/authors/armand_joulin.jpg  \n",
            "  inflating: fastText-master/website/static/img/authors/christian_puhrsch.png  \n",
            "  inflating: fastText-master/website/static/img/authors/edouard_grave.jpeg  \n",
            "  inflating: fastText-master/website/static/img/authors/piotr_bojanowski.jpg  \n",
            "  inflating: fastText-master/website/static/img/authors/tomas_mikolov.jpg  \n",
            "   creating: fastText-master/website/static/img/blog/\n",
            "  inflating: fastText-master/website/static/img/blog/2016-08-18-blog-post-img1.png  \n",
            "  inflating: fastText-master/website/static/img/blog/2016-08-18-blog-post-img2.png  \n",
            "  inflating: fastText-master/website/static/img/blog/2017-05-02-blog-post-img1.jpg  \n",
            "  inflating: fastText-master/website/static/img/blog/2017-05-02-blog-post-img2.jpg  \n",
            "  inflating: fastText-master/website/static/img/blog/2017-10-02-blog-post-img1.png  \n",
            "  inflating: fastText-master/website/static/img/cbo_vs_skipgram.png  \n",
            "  inflating: fastText-master/website/static/img/fasttext-icon-api.png  \n",
            "  inflating: fastText-master/website/static/img/fasttext-icon-bg-web.png  \n",
            "  inflating: fastText-master/website/static/img/fasttext-icon-color-square.png  \n",
            "  inflating: fastText-master/website/static/img/fasttext-icon-color-web.png  \n",
            "  inflating: fastText-master/website/static/img/fasttext-icon-faq.png  \n",
            "  inflating: fastText-master/website/static/img/fasttext-icon-tutorial.png  \n",
            "  inflating: fastText-master/website/static/img/fasttext-icon-white-web.png  \n",
            "  inflating: fastText-master/website/static/img/fasttext-logo-color-web.png  \n",
            "  inflating: fastText-master/website/static/img/fasttext-logo-white-web.png  \n",
            "  inflating: fastText-master/website/static/img/logo-color.png  \n",
            "  inflating: fastText-master/website/static/img/model-black.png  \n",
            "  inflating: fastText-master/website/static/img/model-blue.png  \n",
            "  inflating: fastText-master/website/static/img/model-red.png  \n",
            "  inflating: fastText-master/website/static/img/ogimage.png  \n",
            "  inflating: fastText-master/website/static/img/oss_logo.png  \n",
            "  inflating: fastText-master/website/static/tabber.js  \n",
            "  inflating: fastText-master/wikifil.pl  \n",
            "  inflating: fastText-master/word-vector-example.sh  \n",
            "c++ -pthread -std=c++11 -march=native -O3 -funroll-loops -DNDEBUG args.o autotune.o matrix.o dictionary.o loss.o productquantizer.o densematrix.o quantmatrix.o vector.o model.o utils.o meter.o fasttext.o src/main.cc -o fasttext\n"
          ]
        }
      ],
      "source": [
        "!wget https://github.com/facebookresearch/fastText/archive/master.zip\n",
        "!unzip master.zip\n",
        "!mv fastText-master fastText\n",
        "!rm master.zip\n",
        "!cd fastText && make\n",
        "!mv fastText/fasttext ./fasttext\n"
      ]
    },
    {
      "cell_type": "code",
      "execution_count": 19,
      "metadata": {
        "colab": {
          "base_uri": "https://localhost:8080/"
        },
        "id": "w0mGyMbZ46q9",
        "outputId": "e43b9ef3-d2a8-4867-ec15-8f41ad940c21"
      },
      "outputs": [
        {
          "output_type": "stream",
          "name": "stdout",
          "text": [
            "terminate called after throwing an instance of 'std::invalid_argument'\n",
            "  what():  data/fasttext/your_model_name.bin cannot be opened for saving.\n"
          ]
        }
      ],
      "source": [
        "!./fasttext skipgram -input data/your_text_file.txt -output data/fasttext/your_model_name -dim 300 -minCount 79\n"
      ]
    },
    {
      "cell_type": "code",
      "execution_count": 20,
      "metadata": {
        "colab": {
          "base_uri": "https://localhost:8080/"
        },
        "id": "rou8gIHt7I6t",
        "outputId": "60df347e-2aab-4011-de66-4c25f1042d2b"
      },
      "outputs": [
        {
          "output_type": "stream",
          "name": "stdout",
          "text": [
            "Requirement already satisfied: gensim in /usr/local/lib/python3.10/dist-packages (4.3.2)\n",
            "Requirement already satisfied: numpy>=1.18.5 in /usr/local/lib/python3.10/dist-packages (from gensim) (1.23.5)\n",
            "Requirement already satisfied: scipy>=1.7.0 in /usr/local/lib/python3.10/dist-packages (from gensim) (1.11.4)\n",
            "Requirement already satisfied: smart-open>=1.8.1 in /usr/local/lib/python3.10/dist-packages (from gensim) (6.4.0)\n",
            "  % Total    % Received % Xferd  Average Speed   Time    Time     Time  Current\n",
            "                                 Dload  Upload   Total   Spent    Left  Speed\n",
            "  0     0    0     0    0     0      0      0 --:--:--  0:00:02 --:--:--     0\n",
            "100 75.1M  100 75.1M    0     0  19.3M      0  0:00:03  0:00:03 --:--:-- 63.1M\n"
          ]
        }
      ],
      "source": [
        "!pip install gensim\n",
        "\n",
        "!curl -c ./cookie -s -L \"https://drive.google.com/uc?export=download&id=1V4rTx4yaAg0x1NY1MpNRY2Dp1nKeyOQ7\" > /dev/null\n",
        "!curl -Lb ./cookie \"https://drive.google.com/uc?export=download&confirm=`awk '/download/ {print $NF}' ./cookie`&id=1V4rTx4yaAg0x1NY1MpNRY2Dp1nKeyOQ7\" -o wiki_20190620_small.txt"
      ]
    },
    {
      "cell_type": "code",
      "execution_count": 21,
      "metadata": {
        "colab": {
          "base_uri": "https://localhost:8080/"
        },
        "id": "_XEhe-oWap8q",
        "outputId": "792479d4-d46a-495a-f32e-18f1c57ef5e5"
      },
      "outputs": [
        {
          "output_type": "stream",
          "name": "stdout",
          "text": [
            "Requirement already satisfied: transformers in /usr/local/lib/python3.10/dist-packages (4.35.2)\n",
            "Requirement already satisfied: filelock in /usr/local/lib/python3.10/dist-packages (from transformers) (3.13.1)\n",
            "Requirement already satisfied: huggingface-hub<1.0,>=0.16.4 in /usr/local/lib/python3.10/dist-packages (from transformers) (0.19.4)\n",
            "Requirement already satisfied: numpy>=1.17 in /usr/local/lib/python3.10/dist-packages (from transformers) (1.23.5)\n",
            "Requirement already satisfied: packaging>=20.0 in /usr/local/lib/python3.10/dist-packages (from transformers) (23.2)\n",
            "Requirement already satisfied: pyyaml>=5.1 in /usr/local/lib/python3.10/dist-packages (from transformers) (6.0.1)\n",
            "Requirement already satisfied: regex!=2019.12.17 in /usr/local/lib/python3.10/dist-packages (from transformers) (2023.6.3)\n",
            "Requirement already satisfied: requests in /usr/local/lib/python3.10/dist-packages (from transformers) (2.31.0)\n",
            "Requirement already satisfied: tokenizers<0.19,>=0.14 in /usr/local/lib/python3.10/dist-packages (from transformers) (0.15.0)\n",
            "Requirement already satisfied: safetensors>=0.3.1 in /usr/local/lib/python3.10/dist-packages (from transformers) (0.4.1)\n",
            "Requirement already satisfied: tqdm>=4.27 in /usr/local/lib/python3.10/dist-packages (from transformers) (4.66.1)\n",
            "Requirement already satisfied: fsspec>=2023.5.0 in /usr/local/lib/python3.10/dist-packages (from huggingface-hub<1.0,>=0.16.4->transformers) (2023.6.0)\n",
            "Requirement already satisfied: typing-extensions>=3.7.4.3 in /usr/local/lib/python3.10/dist-packages (from huggingface-hub<1.0,>=0.16.4->transformers) (4.5.0)\n",
            "Requirement already satisfied: charset-normalizer<4,>=2 in /usr/local/lib/python3.10/dist-packages (from requests->transformers) (3.3.2)\n",
            "Requirement already satisfied: idna<4,>=2.5 in /usr/local/lib/python3.10/dist-packages (from requests->transformers) (3.6)\n",
            "Requirement already satisfied: urllib3<3,>=1.21.1 in /usr/local/lib/python3.10/dist-packages (from requests->transformers) (2.0.7)\n",
            "Requirement already satisfied: certifi>=2017.4.17 in /usr/local/lib/python3.10/dist-packages (from requests->transformers) (2023.11.17)\n",
            "Requirement already satisfied: kiwipiepy in /usr/local/lib/python3.10/dist-packages (0.16.2)\n",
            "Requirement already satisfied: kiwipiepy-model~=0.16 in /usr/local/lib/python3.10/dist-packages (from kiwipiepy) (0.16.0)\n",
            "Requirement already satisfied: numpy in /usr/local/lib/python3.10/dist-packages (from kiwipiepy) (1.23.5)\n",
            "Requirement already satisfied: tqdm in /usr/local/lib/python3.10/dist-packages (from kiwipiepy) (4.66.1)\n"
          ]
        }
      ],
      "source": [
        "#0.사용자 지정함수 설정,라이브러리 임포트\n",
        "import numpy as np\n",
        "import matplotlib.pyplot as plt\n",
        "import pandas as pd\n",
        "\n",
        "from sklearn.metrics import mean_squared_error\n",
        "!pip install transformers\n",
        "!pip install kiwipiepy\n",
        "\n",
        "from kiwipiepy import Kiwi\n",
        "from transformers import BertModel\n",
        "\n",
        "def print_obj(obj, name):\n",
        "    print(\"%s:\\n%s\\n\" % (name, obj))"
      ]
    },
    {
      "cell_type": "code",
      "execution_count": 22,
      "metadata": {
        "colab": {
          "base_uri": "https://localhost:8080/"
        },
        "id": "wP0S5zNPZ7u7",
        "outputId": "55ba35ab-477b-4707-ebaf-9ae27dab444d"
      },
      "outputs": [
        {
          "output_type": "stream",
          "name": "stdout",
          "text": [
            "Drive already mounted at /content/drive; to attempt to forcibly remount, call drive.mount(\"/content/drive\", force_remount=True).\n"
          ]
        }
      ],
      "source": [
        "#1.데이터 불러오기(데이터형확인)(dim,shape)\n",
        "from google.colab import drive\n",
        "\n",
        "# Google Drive 마운트\n",
        "drive.mount('/content/drive')\n",
        "\n",
        "# Google Drive에 있는 파일 읽기\n",
        "file_path = '/content/drive/MyDrive/Colab Notebooks/db.sheet.csv'\n",
        "dataset = pd.read_csv(file_path)\n"
      ]
    },
    {
      "cell_type": "code",
      "execution_count": 23,
      "metadata": {
        "colab": {
          "base_uri": "https://localhost:8080/"
        },
        "id": "Blw2YUmAhYYB",
        "outputId": "96a06078-4016-487a-8988-4e9c685dcd0e"
      },
      "outputs": [
        {
          "output_type": "stream",
          "name": "stdout",
          "text": [
            "Index(['경력', '[채용] 본교 인재개발원 연구원 채용 공고 ', '인재개발', '연구원', '채용', 'Unnamed: 5'], dtype='object')\n"
          ]
        }
      ],
      "source": [
        "print(dataset.columns)"
      ]
    },
    {
      "cell_type": "code",
      "execution_count": 24,
      "metadata": {
        "colab": {
          "base_uri": "https://localhost:8080/"
        },
        "id": "Xlwc9U4Q73Vu",
        "outputId": "0ca8a210-34f3-44e4-d518-3d2226b89f93"
      },
      "outputs": [
        {
          "output_type": "stream",
          "name": "stdout",
          "text": [
            "0     object\n",
            "1     object\n",
            "2     object\n",
            "3     object\n",
            "4     object\n",
            "5     object\n",
            "6     object\n",
            "7     object\n",
            "8     object\n",
            "9     object\n",
            "10    object\n",
            "11    object\n",
            "12    object\n",
            "13    object\n",
            "14    object\n",
            "15    object\n",
            "16    object\n",
            "17    object\n",
            "18    object\n",
            "19    object\n",
            "20    object\n",
            "dtype: object\n",
            "(219, 21)\n",
            "FastText<vocab=34, vector_size=50, alpha=0.025>\n"
          ]
        }
      ],
      "source": [
        "from gensim.models.fasttext import FastText\n",
        "from gensim.models.word2vec import Text8Corpus\n",
        "\n",
        "file_path = '/content/drive/MyDrive/Colab Notebooks/kiwi_auto.csv'\n",
        "dataset = pd.read_csv(file_path)\n",
        "\n",
        "print(dataset.dtypes)# 각 열의 데이터 타입 확인\n",
        "print(dataset.shape)# 데이터의 행과 열의 개수 확인\n",
        "\n",
        "from gensim.models import FastText\n",
        "\n",
        "sentences = [str(sentence).split() for column in dataset.columns for sentence in dataset[column]]\n",
        "\n",
        "model = FastText(vector_size=50, window=5, min_count=10)\n",
        "model.build_vocab(sentences)  # 단어 사전 구축\n",
        "model.train(sentences, total_examples=model.corpus_count, epochs=10)  # 모델 훈련\n",
        "print(model)"
      ]
    },
    {
      "cell_type": "code",
      "execution_count": 25,
      "metadata": {
        "id": "cENu60auNf6u",
        "colab": {
          "base_uri": "https://localhost:8080/"
        },
        "outputId": "a9e6da12-10bb-4219-84ab-99ddd3e99a2c"
      },
      "outputs": [
        {
          "output_type": "stream",
          "name": "stdout",
          "text": [
            "[ 0.00048082 -0.00638385  0.00457487  0.0005689  -0.00513379 -0.00701016\n",
            "  0.00260349  0.00312916 -0.00066542  0.00254631 -0.00603792  0.01170988\n",
            "  0.01046745  0.01569405  0.00331631  0.00366644  0.01283677 -0.00201974\n",
            " -0.00456438  0.00137723 -0.00716489  0.01362949  0.00455844 -0.00132929\n",
            " -0.00381354  0.00211804  0.01032748  0.00485032  0.00299967 -0.00069535\n",
            " -0.00031681 -0.00228365  0.00051672  0.00459621 -0.00353807  0.00014739\n",
            "  0.00809128  0.00248764  0.00369665 -0.00469033  0.00010796  0.00116633\n",
            "  0.00402463 -0.00282838 -0.00056304 -0.00311809  0.00623818  0.00243821\n",
            " -0.0056711   0.00224105]\n"
          ]
        }
      ],
      "source": [
        "from gensim.models import FastText\n",
        "\n",
        "# 모델을 저장하고 로드하는 코드\n",
        "model.save('fasttext_model')\n",
        "saved_model = FastText.load('fasttext_model')\n",
        "\n",
        "\n",
        "# '봉사' 단어의 벡터를 가져오기\n",
        "word_vector = saved_model.wv['봉사']\n",
        "print(word_vector)\n"
      ]
    },
    {
      "cell_type": "code",
      "source": [
        "def find_similar_words(word, topn=5):\n",
        "    similar_words = saved_model.wv.most_similar(word, topn=topn)\n",
        "    return similar_words\n",
        "\n",
        "def compute_similarity(word1, word2):\n",
        "    similarity = saved_model.wv.similarity(word1, word2)\n",
        "    return similarity\n",
        "\n",
        "# 사용자 입력 받기\n",
        "word = input(\"Enter a word: \")\n",
        "topn = int(input(\"Enter the number of similar words you want to find: \"))\n",
        "\n",
        "# 유사한 단어 찾기\n",
        "similar_words = find_similar_words(word, topn)\n",
        "print(f\"Words similar to '{word}': {similar_words}\")\n",
        "\n",
        "# 두 단어의 유사도 계산\n",
        "word1 = input(\"Enter the first word: \")\n",
        "word2 = input(\"Enter the second word: \")\n",
        "\n",
        "similarity = compute_similarity(word1, word2)\n",
        "print(f\"Similarity between '{word1}' and '{word2}': {similarity}\")\n"
      ],
      "metadata": {
        "colab": {
          "base_uri": "https://localhost:8080/"
        },
        "id": "kpIWGvMb4Jcc",
        "outputId": "dae6439d-f652-4e79-bab3-a3af9e2b1907"
      },
      "execution_count": 26,
      "outputs": [
        {
          "output_type": "stream",
          "name": "stdout",
          "text": [
            "Enter a word: 공대\n",
            "Enter the number of similar words you want to find: 7\n",
            "Words similar to '공대': [('트랙', 0.2523621618747711), ('안내', 0.22985097765922546), ('모집', 0.165998175740242), ('인재', 0.15281307697296143), ('공고', 0.14646628499031067), ('학기', 0.13283026218414307), ('장학', 0.12928983569145203)]\n",
            "Enter the first word: 조교\n",
            "Enter the second word: 모집\n",
            "Similarity between '조교' and '모집': 0.02015415020287037\n"
          ]
        }
      ]
    },
    {
      "cell_type": "code",
      "execution_count": 27,
      "metadata": {
        "colab": {
          "base_uri": "https://localhost:8080/"
        },
        "id": "N6h9Dnn0QfcO",
        "outputId": "ecaeb273-e79f-451d-afa2-ff9c9a8a3eaf"
      },
      "outputs": [
        {
          "output_type": "stream",
          "name": "stdout",
          "text": [
            "[('학생', 0.30468273162841797), ('행정실', 0.25458255410194397), ('지원', 0.24628077447414398), ('수업', 0.23274846374988556), ('TELOS', 0.22515280544757843)]\n"
          ]
        }
      ],
      "source": [
        "similar_words = saved_model.wv.most_similar(\"사용자관심태그 변수\", topn=5)  #사용자관심태그 변수로\n",
        "print(similar_words)"
      ]
    },
    {
      "cell_type": "code",
      "execution_count": 28,
      "metadata": {
        "colab": {
          "base_uri": "https://localhost:8080/"
        },
        "id": "8LzEj2t4M9nb",
        "outputId": "42256611-2b07-4b68-8151-513baa8fc338"
      },
      "outputs": [
        {
          "output_type": "stream",
          "name": "stdout",
          "text": [
            "Similarity between '채용' and '조교': 0.15966124832630157\n",
            "Similarity between '채용' and '상담회': -0.10460583865642548\n"
          ]
        }
      ],
      "source": [
        "#유사도 계산\n",
        "similarity1 = saved_model.wv.similarity(\"채용\", \"조교\")\n",
        "similarity2 = saved_model.wv.similarity(\"채용\", \"상담회\")\n",
        "\n",
        "print(f\"Similarity between '채용' and '조교': {similarity1}\")\n",
        "print(f\"Similarity between '채용' and '상담회': {similarity2}\")"
      ]
    },
    {
      "cell_type": "code",
      "execution_count": 29,
      "metadata": {
        "colab": {
          "base_uri": "https://localhost:8080/"
        },
        "id": "yb0DhJooQ13w",
        "outputId": "9c5fdf8f-39fe-49af-a984-a3458f0d12b4"
      },
      "outputs": [
        {
          "output_type": "stream",
          "name": "stdout",
          "text": [
            "[('인재', 0.25168344378471375), ('TELOS', 0.22663600742816925), ('nan', 0.17637142539024353), ('겨울', 0.16290052235126495), ('프로그램', 0.14624616503715515), ('대학원', 0.1414770781993866), ('학부', 0.11854300647974014), ('행정실', 0.10385886579751968), ('대학', 0.08995918929576874), ('전공', 0.08305896073579788)]\n"
          ]
        }
      ],
      "source": [
        "similar_words = saved_model.wv.most_similar(positive=['교육', '언어'], negative=['채용'])\n",
        "print(similar_words)\n"
      ]
    },
    {
      "cell_type": "code",
      "execution_count": 30,
      "metadata": {
        "colab": {
          "base_uri": "https://localhost:8080/"
        },
        "id": "vgFZ_gulRJj2",
        "outputId": "0f6fe9cc-d9cf-4e19-f56d-4761b3836f4f"
      },
      "outputs": [
        {
          "output_type": "stream",
          "name": "stdout",
          "text": [
            "[('트랙', 0.2523621618747711), ('안내', 0.22985097765922546), ('모집', 0.165998175740242), ('인재', 0.15281307697296143), ('공고', 0.14646628499031067), ('학기', 0.13283026218414307), ('장학', 0.12928983569145203), ('건강', 0.08693111687898636), ('겨울', 0.08144653588533401), ('행정실', 0.07960878312587738)]\n"
          ]
        }
      ],
      "source": [
        "similar_words = saved_model.wv.similar_by_word('공대')\n",
        "print(similar_words)\n"
      ]
    }
  ],
  "metadata": {
    "colab": {
      "provenance": []
    },
    "kernelspec": {
      "display_name": "Python 3",
      "name": "python3"
    },
    "language_info": {
      "name": "python"
    }
  },
  "nbformat": 4,
  "nbformat_minor": 0
}