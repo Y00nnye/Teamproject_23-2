{
  "nbformat": 4,
  "nbformat_minor": 0,
  "metadata": {
    "colab": {
      "provenance": [],
      "authorship_tag": "ABX9TyN8tt4SJOJSLHlVGTGmxTJa",
      "include_colab_link": true
    },
    "kernelspec": {
      "name": "python3",
      "display_name": "Python 3"
    },
    "language_info": {
      "name": "python"
    }
  },
  "cells": [
    {
      "cell_type": "markdown",
      "metadata": {
        "id": "view-in-github",
        "colab_type": "text"
      },
      "source": [
        "<a href=\"https://colab.research.google.com/github/Y00nnye/Teamproject_23-2/blob/douen/_1_mount%26kiwi.ipynb\" target=\"_parent\"><img src=\"https://colab.research.google.com/assets/colab-badge.svg\" alt=\"Open In Colab\"/></a>"
      ]
    },
    {
      "cell_type": "code",
      "execution_count": null,
      "metadata": {
        "id": "G1gs3YdZsYz8"
      },
      "outputs": [],
      "source": [
        "#1.데이터 불러오기(데이터형확인)(dim,shape)\n",
        "from google.colab import drive\n",
        "import pandas as pd\n",
        "\n",
        "# Google Drive 마운트\n",
        "drive.mount('/content/drive')\n",
        "file_path = '/content/drive/MyDrive/4U/db/db.sheet.xlsx'\n",
        "dataset = pd.read_excel(file_path)\n",
        "\n",
        "# 데이터 확인\n",
        "print(dataset)\n",
        "print(dataset.dtypes)# 각 열의 데이터 타입 확인\n",
        "print(dataset.shape)# 데이터의 행과 열의 개수 확인\n",
        "\n",
        "#titleSet keywordSet나누기\n",
        "X = dataset.iloc[:, 1] #titleSet\n",
        "y1 = dataset.iloc[:, 2] #keywordSet1\n",
        "y2 = dataset.iloc[:, 3] #keywordSet2\n",
        "y3 = dataset.iloc[:, 4] #keywordSet3\n",
        "\n",
        "print(\"X_dataset\")\n",
        "print(X)\n",
        "print(\"X_shape\")\n",
        "print(X.shape)\n",
        "\n",
        "\n",
        "#2.필요한 라이브러리 불러오기(분해 이전)\n",
        "\n",
        "import numpy as np\n",
        "\n",
        "!pip install kiwipiepy\n",
        "from kiwipiepy import Kiwi\n",
        "\n",
        "from keybert import KeyBERT\n",
        "from transformers import BertModel\n",
        "\n",
        "model = BertModel.from_pretrained('skt/kobert-base-v1')\n",
        "kw_model = KeyBERT(model)\n",
        "\n",
        "import re\n",
        "\n",
        "#3.키위 사용\n",
        "\n",
        "Kiwi 형태소 분석기 초기화\n",
        "kiwi = Kiwi()\n",
        "\n",
        "# 정규표현식을 사용하여 알파벳이 포함된 단어를 걸러내는 패턴\n",
        "alphabet_pattern = re.compile('[a-zA-Z]')\n",
        "\n",
        "# 각 행의 키워드를 저장할 리스트\n",
        "X_kiwi = []\n",
        "\n",
        "# 각 행을 처리하여 키워드 추출 후 저장\n",
        "for title in X:\n",
        "    # Kiwi 형태소 분석 수행\n",
        "    kiwi_result = kiwi.analyze(title)\n",
        "\n",
        "    # 명사 추출 함수\n",
        "    def noun_extractor_kiwi(kiwi_result):\n",
        "        nouns = []\n",
        "        for token, pos, _, _ in kiwi_result[0][0]:\n",
        "            if len(token) != 1 and (pos.startswith('N') or pos.startswith('SL')) and not alphabet_pattern.search(token):\n",
        "                nouns.append(token)\n",
        "        return nouns\n",
        "\n",
        "    # 명사 추출\n",
        "    nouns = noun_extractor_kiwi(kiwi_result)\n",
        "\n",
        "    # 추출된 명사를 X_kiwi에 추가\n",
        "    X_kiwi.append(nouns)\n",
        "\n",
        "for i in range(len(X_kiwi)):\n",
        "  print(X_kiwi[i])"
      ]
    }
  ]
}